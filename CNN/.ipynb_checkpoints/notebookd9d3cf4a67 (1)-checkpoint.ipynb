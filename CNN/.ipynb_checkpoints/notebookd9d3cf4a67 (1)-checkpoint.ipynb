{
 "cells": [
  {
   "cell_type": "code",
   "execution_count": 5,
   "id": "7e660989",
   "metadata": {
    "_cell_guid": "b1076dfc-b9ad-4769-8c92-a6c4dae69d19",
    "_uuid": "8f2839f25d086af736a60e9eeb907d3b93b6e0e5",
    "execution": {
     "iopub.execute_input": "2024-09-26T12:29:09.849900Z",
     "iopub.status.busy": "2024-09-26T12:29:09.849476Z",
     "iopub.status.idle": "2024-09-26T12:29:10.865712Z",
     "shell.execute_reply": "2024-09-26T12:29:10.864583Z"
    },
    "papermill": {
     "duration": 1.026536,
     "end_time": "2024-09-26T12:29:10.868470",
     "exception": false,
     "start_time": "2024-09-26T12:29:09.841934",
     "status": "completed"
    },
    "tags": []
   },
   "outputs": [],
   "source": [
    "# This Python 3 environment comes with many helpful analytics libraries installed\n",
    "# It is defined by the kaggle/python Docker image: https://github.com/kaggle/docker-python\n",
    "# For example, here's several helpful packages to load\n",
    "\n",
    "import numpy as np # linear algebra\n",
    "import pandas as pd # data processing, CSV file I/O (e.g. pd.read_csv)\n",
    "\n",
    "# Input data files are available in the read-only \"../input/\" directory\n",
    "# For example, running this (by clicking run or pressing Shift+Enter) will list all files under the input directory\n",
    "\n",
    "import os\n",
    "for dirname, _, filenames in os.walk('/kaggle/input'):\n",
    "    for filename in filenames:\n",
    "        print(os.path.join(dirname, filename))\n",
    "\n",
    "# You can write up to 20GB to the current directory (/kaggle/working/) that gets preserved as output when you create a version using \"Save & Run All\" \n",
    "# You can also write temporary files to /kaggle/temp/, but they won't be saved outside of the current session"
   ]
  },
  {
   "cell_type": "code",
   "execution_count": 4,
   "id": "4b420f83",
   "metadata": {
    "execution": {
     "iopub.execute_input": "2024-09-26T12:29:10.882745Z",
     "iopub.status.busy": "2024-09-26T12:29:10.881324Z",
     "iopub.status.idle": "2024-09-26T12:29:16.225345Z",
     "shell.execute_reply": "2024-09-26T12:29:16.224146Z"
    },
    "papermill": {
     "duration": 5.353718,
     "end_time": "2024-09-26T12:29:16.227909",
     "exception": false,
     "start_time": "2024-09-26T12:29:10.874191",
     "status": "completed"
    },
    "tags": []
   },
   "outputs": [
    {
     "ename": "ModuleNotFoundError",
     "evalue": "No module named 'torch'",
     "output_type": "error",
     "traceback": [
      "\u001b[1;31m---------------------------------------------------------------------------\u001b[0m",
      "\u001b[1;31mModuleNotFoundError\u001b[0m                       Traceback (most recent call last)",
      "\u001b[1;32m~\\AppData\\Local\\Temp/ipykernel_5080/2972458814.py\u001b[0m in \u001b[0;36m<module>\u001b[1;34m\u001b[0m\n\u001b[1;32m----> 1\u001b[1;33m \u001b[1;32mimport\u001b[0m \u001b[0mtorch\u001b[0m\u001b[1;33m\u001b[0m\u001b[1;33m\u001b[0m\u001b[0m\n\u001b[0m\u001b[0;32m      2\u001b[0m \u001b[1;32mimport\u001b[0m \u001b[0mtorch\u001b[0m\u001b[1;33m.\u001b[0m\u001b[0mnn\u001b[0m \u001b[1;32mas\u001b[0m \u001b[0mnn\u001b[0m\u001b[1;33m\u001b[0m\u001b[1;33m\u001b[0m\u001b[0m\n\u001b[0;32m      3\u001b[0m \u001b[1;32mimport\u001b[0m \u001b[0mmatplotlib\u001b[0m\u001b[1;33m.\u001b[0m\u001b[0mpyplot\u001b[0m \u001b[1;32mas\u001b[0m \u001b[0mplt\u001b[0m\u001b[1;33m\u001b[0m\u001b[1;33m\u001b[0m\u001b[0m\n\u001b[0;32m      4\u001b[0m \u001b[1;32mimport\u001b[0m \u001b[0mtorchvision\u001b[0m\u001b[1;33m\u001b[0m\u001b[1;33m\u001b[0m\u001b[0m\n\u001b[0;32m      5\u001b[0m \u001b[1;33m\u001b[0m\u001b[0m\n",
      "\u001b[1;31mModuleNotFoundError\u001b[0m: No module named 'torch'"
     ]
    }
   ],
   "source": [
    "import torch\n",
    "import torch.nn as nn\n",
    "import matplotlib.pyplot as plt\n",
    "import torchvision\n",
    "\n",
    "device = torch.device(\"cuda\" if torch.cuda.is_available() else \"cpu\")\n",
    "\n",
    "device"
   ]
  },
  {
   "cell_type": "code",
   "execution_count": 3,
   "id": "90ffe3a7",
   "metadata": {
    "execution": {
     "iopub.execute_input": "2024-09-26T12:29:16.241338Z",
     "iopub.status.busy": "2024-09-26T12:29:16.240685Z",
     "iopub.status.idle": "2024-09-26T12:29:17.041945Z",
     "shell.execute_reply": "2024-09-26T12:29:17.040584Z"
    },
    "papermill": {
     "duration": 0.811201,
     "end_time": "2024-09-26T12:29:17.044751",
     "exception": false,
     "start_time": "2024-09-26T12:29:16.233550",
     "status": "completed"
    },
    "tags": []
   },
   "outputs": [
    {
     "name": "stdout",
     "output_type": "stream",
     "text": [
      "导入成功\n"
     ]
    }
   ],
   "source": [
    "dataset_path = '/kaggle/input/mnist'\n",
    "\n",
    "# 加载训练集\n",
    "train_ds = torchvision.datasets.MNIST(root=dataset_path, train=True,transform=torchvision.transforms.ToTensor(), download=False)\n",
    "\n",
    "# 加载测试集\n",
    "test_ds = torchvision.datasets.MNIST(root=dataset_path, train=False,transform=torchvision.transforms.ToTensor(), download=False)\n",
    "\n",
    "print(\"导入成功\")"
   ]
  },
  {
   "cell_type": "code",
   "execution_count": 4,
   "id": "a2e1ca0b",
   "metadata": {
    "execution": {
     "iopub.execute_input": "2024-09-26T12:29:17.058140Z",
     "iopub.status.busy": "2024-09-26T12:29:17.057680Z",
     "iopub.status.idle": "2024-09-26T12:29:17.064382Z",
     "shell.execute_reply": "2024-09-26T12:29:17.063272Z"
    },
    "papermill": {
     "duration": 0.016197,
     "end_time": "2024-09-26T12:29:17.066812",
     "exception": false,
     "start_time": "2024-09-26T12:29:17.050615",
     "status": "completed"
    },
    "tags": []
   },
   "outputs": [],
   "source": [
    "batch_size = 32\n",
    "\n",
    "train_dl = torch.utils.data.DataLoader(train_ds, \n",
    "                                       batch_size=batch_size, \n",
    "                                       shuffle=True)\n",
    "\n",
    "test_dl  = torch.utils.data.DataLoader(test_ds, \n",
    "                                       batch_size=batch_size)"
   ]
  },
  {
   "cell_type": "code",
   "execution_count": 5,
   "id": "77d5831d",
   "metadata": {
    "execution": {
     "iopub.execute_input": "2024-09-26T12:29:17.080057Z",
     "iopub.status.busy": "2024-09-26T12:29:17.079624Z",
     "iopub.status.idle": "2024-09-26T12:29:17.145775Z",
     "shell.execute_reply": "2024-09-26T12:29:17.144680Z"
    },
    "papermill": {
     "duration": 0.075741,
     "end_time": "2024-09-26T12:29:17.148423",
     "exception": false,
     "start_time": "2024-09-26T12:29:17.072682",
     "status": "completed"
    },
    "tags": []
   },
   "outputs": [
    {
     "data": {
      "text/plain": [
       "torch.Size([32, 1, 28, 28])"
      ]
     },
     "execution_count": 5,
     "metadata": {},
     "output_type": "execute_result"
    }
   ],
   "source": [
    "# 取一个批次查看数据格式\n",
    "# 数据的shape为：[batch_size, channel, height, weight]\n",
    "# 其中batch_size为自己设定，channel，height和weight分别是图片的通道数，高度和宽度。\n",
    "imgs, labels = next(iter(train_dl))\n",
    "imgs.shape"
   ]
  },
  {
   "cell_type": "code",
   "execution_count": 6,
   "id": "3eade8c0",
   "metadata": {
    "execution": {
     "iopub.execute_input": "2024-09-26T12:29:17.161818Z",
     "iopub.status.busy": "2024-09-26T12:29:17.161341Z",
     "iopub.status.idle": "2024-09-26T12:29:18.002434Z",
     "shell.execute_reply": "2024-09-26T12:29:18.001289Z"
    },
    "papermill": {
     "duration": 0.851195,
     "end_time": "2024-09-26T12:29:18.005439",
     "exception": false,
     "start_time": "2024-09-26T12:29:17.154244",
     "status": "completed"
    },
    "tags": []
   },
   "outputs": [
    {
     "data": {
      "image/png": "[encoded data removed]",
      "text/plain": [
       "<Figure size 2000x500 with 20 Axes>"
      ]
     },
     "metadata": {},
     "output_type": "display_data"
    }
   ],
   "source": [
    "import numpy as np\n",
    "\n",
    " # 指定图片大小，图像大小为20宽、5高的绘图(单位为英寸inch)\n",
    "plt.figure(figsize=(20, 5)) \n",
    "for i, imgs in enumerate(imgs[:20]):\n",
    "    # 维度缩减\n",
    "    npimg = np.squeeze(imgs.numpy())\n",
    "    # 将整个figure分成2行10列，绘制第i+1个子图。\n",
    "    plt.subplot(2, 10, i+1)\n",
    "    plt.imshow(npimg, cmap=plt.cm.binary)\n",
    "    plt.axis('off')"
   ]
  },
  {
   "cell_type": "code",
   "execution_count": 7,
   "id": "9df8272a",
   "metadata": {
    "execution": {
     "iopub.execute_input": "2024-09-26T12:29:18.020326Z",
     "iopub.status.busy": "2024-09-26T12:29:18.019852Z",
     "iopub.status.idle": "2024-09-26T12:29:18.030495Z",
     "shell.execute_reply": "2024-09-26T12:29:18.029396Z"
    },
    "papermill": {
     "duration": 0.021027,
     "end_time": "2024-09-26T12:29:18.033140",
     "exception": false,
     "start_time": "2024-09-26T12:29:18.012113",
     "status": "completed"
    },
    "tags": []
   },
   "outputs": [],
   "source": [
    "import torch.nn.functional as F\n",
    "\n",
    "num_classes = 10  # 图片的类别数\n",
    "\n",
    "class Model(nn.Module):\n",
    "     def __init__(self):\n",
    "        super().__init__()\n",
    "         # 特征提取网络\n",
    "        self.conv1 = nn.Conv2d(1, 32, kernel_size=3)  # 第一层卷积,卷积核大小为3*3\n",
    "        self.pool1 = nn.MaxPool2d(2)                  # 设置池化层，池化核大小为2*2\n",
    "        self.conv2 = nn.Conv2d(32, 64, kernel_size=3) # 第二层卷积,卷积核大小为3*3   \n",
    "        self.pool2 = nn.MaxPool2d(2) \n",
    "                                      \n",
    "        # 分类网络\n",
    "        self.fc1 = nn.Linear(1600, 64)          \n",
    "        self.fc2 = nn.Linear(64, num_classes)\n",
    "     # 前向传播\n",
    "     def forward(self, x):\n",
    "        x = self.pool1(F.relu(self.conv1(x)))     \n",
    "        x = self.pool2(F.relu(self.conv2(x)))\n",
    "\n",
    "        x = torch.flatten(x, start_dim=1)\n",
    "\n",
    "        x = F.relu(self.fc1(x))\n",
    "        x = self.fc2(x)\n",
    "       \n",
    "        return x"
   ]
  },
  {
   "cell_type": "code",
   "execution_count": 8,
   "id": "e718679d",
   "metadata": {
    "execution": {
     "iopub.execute_input": "2024-09-26T12:29:18.048242Z",
     "iopub.status.busy": "2024-09-26T12:29:18.047325Z",
     "iopub.status.idle": "2024-09-26T12:29:18.073203Z",
     "shell.execute_reply": "2024-09-26T12:29:18.071872Z"
    },
    "papermill": {
     "duration": 0.036272,
     "end_time": "2024-09-26T12:29:18.075786",
     "exception": false,
     "start_time": "2024-09-26T12:29:18.039514",
     "status": "completed"
    },
    "tags": []
   },
   "outputs": [
    {
     "data": {
      "text/plain": [
       "=================================================================\n",
       "Layer (type:depth-idx)                   Param #\n",
       "=================================================================\n",
       "Model                                    --\n",
       "├─Conv2d: 1-1                            320\n",
       "├─MaxPool2d: 1-2                         --\n",
       "├─Conv2d: 1-3                            18,496\n",
       "├─MaxPool2d: 1-4                         --\n",
       "├─Linear: 1-5                            102,464\n",
       "├─Linear: 1-6                            650\n",
       "=================================================================\n",
       "Total params: 121,930\n",
       "Trainable params: 121,930\n",
       "Non-trainable params: 0\n",
       "================================================================="
      ]
     },
     "execution_count": 8,
     "metadata": {},
     "output_type": "execute_result"
    }
   ],
   "source": [
    "from torchinfo import summary\n",
    "# 将模型转移到GPU中（我们模型运行均在GPU中进行）\n",
    "model = Model().to(device)\n",
    "\n",
    "summary(model)"
   ]
  },
  {
   "cell_type": "code",
   "execution_count": 9,
   "id": "85a7f8e1",
   "metadata": {
    "execution": {
     "iopub.execute_input": "2024-09-26T12:29:18.091874Z",
     "iopub.status.busy": "2024-09-26T12:29:18.090884Z",
     "iopub.status.idle": "2024-09-26T12:29:18.096929Z",
     "shell.execute_reply": "2024-09-26T12:29:18.095878Z"
    },
    "papermill": {
     "duration": 0.01644,
     "end_time": "2024-09-26T12:29:18.099227",
     "exception": false,
     "start_time": "2024-09-26T12:29:18.082787",
     "status": "completed"
    },
    "tags": []
   },
   "outputs": [],
   "source": [
    "\n",
    "\n",
    "loss_fn    = nn.CrossEntropyLoss() # 创建损失函数\n",
    "learn_rate = 1e-2 # 学习率\n",
    "opt        = torch.optim.SGD(model.parameters(),lr=learn_rate)\n",
    "\n"
   ]
  },
  {
   "cell_type": "code",
   "execution_count": 10,
   "id": "d77ccfc8",
   "metadata": {
    "execution": {
     "iopub.execute_input": "2024-09-26T12:29:18.114125Z",
     "iopub.status.busy": "2024-09-26T12:29:18.113662Z",
     "iopub.status.idle": "2024-09-26T12:29:18.123550Z",
     "shell.execute_reply": "2024-09-26T12:29:18.122306Z"
    },
    "papermill": {
     "duration": 0.02017,
     "end_time": "2024-09-26T12:29:18.125945",
     "exception": false,
     "start_time": "2024-09-26T12:29:18.105775",
     "status": "completed"
    },
    "tags": []
   },
   "outputs": [],
   "source": [
    "# 训练循环\n",
    "def train(dataloader, model, loss_fn, optimizer):\n",
    "    size = len(dataloader.dataset)  # 训练集的大小，一共60000张图片\n",
    "    num_batches = len(dataloader)   # 批次数目，1875（60000/32）\n",
    "\n",
    "    train_loss, train_acc = 0, 0  # 初始化训练损失和正确率\n",
    "    \n",
    "    for X, y in dataloader:  # 获取图片及其标签\n",
    "        X, y = X.to(device), y.to(device)\n",
    "        \n",
    "        # 计算预测误差\n",
    "        pred = model(X)          # 网络输出\n",
    "        loss = loss_fn(pred, y)  # 计算网络输出和真实值之间的差距，targets为真实值，计算二者差值即为损失\n",
    "        \n",
    "        # 反向传播\n",
    "        optimizer.zero_grad()  # grad属性归零\n",
    "        loss.backward()        # 反向传播\n",
    "        optimizer.step()       # 每一步自动更新\n",
    "        \n",
    "        # 记录acc与loss\n",
    "        train_acc  += (pred.argmax(1) == y).type(torch.float).sum().item()\n",
    "        train_loss += loss.item()\n",
    "            \n",
    "    train_acc  /= size\n",
    "    train_loss /= num_batches\n",
    "\n",
    "    return train_acc, train_loss"
   ]
  },
  {
   "cell_type": "code",
   "execution_count": 11,
   "id": "16bb66ce",
   "metadata": {
    "execution": {
     "iopub.execute_input": "2024-09-26T12:29:18.141950Z",
     "iopub.status.busy": "2024-09-26T12:29:18.141159Z",
     "iopub.status.idle": "2024-09-26T12:29:18.149702Z",
     "shell.execute_reply": "2024-09-26T12:29:18.148678Z"
    },
    "papermill": {
     "duration": 0.01966,
     "end_time": "2024-09-26T12:29:18.152092",
     "exception": false,
     "start_time": "2024-09-26T12:29:18.132432",
     "status": "completed"
    },
    "tags": []
   },
   "outputs": [],
   "source": [
    "def test(dataloader, model, loss_fn):\n",
    "    size        = len(dataloader.dataset)  # 测试集的大小，一共10000张图片\n",
    "    num_batches = len(dataloader)          # 批次数目，313（10000/32=312.5，向上取整）\n",
    "    \n",
    "    test_loss, test_acc = 0, 0\n",
    "    \n",
    "    # 当不进行训练时，停止梯度更新，节省计算内存消耗\n",
    "    with torch.no_grad():\n",
    "        for imgs, target in dataloader:\n",
    "            imgs, target = imgs.to(device), target.to(device)\n",
    "            \n",
    "            # 计算loss\n",
    "            target_pred = model(imgs)\n",
    "            loss        = loss_fn(target_pred, target)\n",
    "            \n",
    "            test_loss += loss.item()\n",
    "            test_acc  += (target_pred.argmax(1) == target).type(torch.float).sum().item()\n",
    "\n",
    "    test_acc  /= size\n",
    "    test_loss /= num_batches\n",
    "\n",
    "    return test_acc, test_loss"
   ]
  },
  {
   "cell_type": "code",
   "execution_count": 12,
   "id": "7c183d57",
   "metadata": {
    "execution": {
     "iopub.execute_input": "2024-09-26T12:29:18.167004Z",
     "iopub.status.busy": "2024-09-26T12:29:18.166588Z",
     "iopub.status.idle": "2024-09-26T12:32:40.289613Z",
     "shell.execute_reply": "2024-09-26T12:32:40.288350Z"
    },
    "papermill": {
     "duration": 202.139823,
     "end_time": "2024-09-26T12:32:40.298521",
     "exception": false,
     "start_time": "2024-09-26T12:29:18.158698",
     "status": "completed"
    },
    "tags": []
   },
   "outputs": [
    {
     "name": "stdout",
     "output_type": "stream",
     "text": [
      "Epoch: 1, Train_acc:76.0%, Train_loss:0.830, Test_acc:91.7%，Test_loss:0.263\n",
      "Epoch: 2, Train_acc:94.5%, Train_loss:0.183, Test_acc:96.8%，Test_loss:0.115\n",
      "Epoch: 3, Train_acc:96.6%, Train_loss:0.113, Test_acc:97.4%，Test_loss:0.088\n",
      "Epoch: 4, Train_acc:97.3%, Train_loss:0.088, Test_acc:97.9%，Test_loss:0.069\n",
      "Epoch: 5, Train_acc:97.7%, Train_loss:0.074, Test_acc:98.0%，Test_loss:0.061\n",
      "Done\n"
     ]
    }
   ],
   "source": [
    "epochs     = 5\n",
    "train_loss = []\n",
    "train_acc  = []\n",
    "test_loss  = []\n",
    "test_acc   = []\n",
    "\n",
    "for epoch in range(epochs):\n",
    "    model.train()\n",
    "    epoch_train_acc, epoch_train_loss = train(train_dl, model, loss_fn, opt)\n",
    "    \n",
    "    model.eval()\n",
    "    epoch_test_acc, epoch_test_loss = test(test_dl, model, loss_fn)\n",
    "    \n",
    "    train_acc.append(epoch_train_acc)\n",
    "    train_loss.append(epoch_train_loss)\n",
    "    test_acc.append(epoch_test_acc)\n",
    "    test_loss.append(epoch_test_loss)\n",
    "    \n",
    "    template = ('Epoch:{:2d}, Train_acc:{:.1f}%, Train_loss:{:.3f}, Test_acc:{:.1f}%，Test_loss:{:.3f}')\n",
    "    print(template.format(epoch+1, epoch_train_acc*100, epoch_train_loss, epoch_test_acc*100, epoch_test_loss))\n",
    "print('Done')"
   ]
  },
  {
   "cell_type": "code",
   "execution_count": 13,
   "id": "1fe582d8",
   "metadata": {
    "execution": {
     "iopub.execute_input": "2024-09-26T12:32:40.314287Z",
     "iopub.status.busy": "2024-09-26T12:32:40.313852Z",
     "iopub.status.idle": "2024-09-26T12:32:40.861284Z",
     "shell.execute_reply": "2024-09-26T12:32:40.860044Z"
    },
    "papermill": {
     "duration": 0.558997,
     "end_time": "2024-09-26T12:32:40.864451",
     "exception": false,
     "start_time": "2024-09-26T12:32:40.305454",
     "status": "completed"
    },
    "tags": []
   },
   "outputs": [
    {
     "data": {
      "image/png": "[encoded data removed]",
      "text/plain": [
       "<Figure size 1200x300 with 2 Axes>"
      ]
     },
     "metadata": {},
     "output_type": "display_data"
    }
   ],
   "source": [
    "import matplotlib.pyplot as plt\n",
    "#隐藏警告\n",
    "import warnings\n",
    "warnings.filterwarnings(\"ignore\")               #忽略警告信息\n",
    "plt.rcParams['font.sans-serif']    = ['SimHei'] # 用来正常显示中文标签\n",
    "plt.rcParams['axes.unicode_minus'] = False      # 用来正常显示负号\n",
    "plt.rcParams['figure.dpi']         = 100        #分辨率\n",
    "\n",
    "epochs_range = range(epochs)\n",
    "\n",
    "plt.figure(figsize=(12, 3))\n",
    "plt.subplot(1, 2, 1)\n",
    "\n",
    "plt.plot(epochs_range, train_acc, label='Training Accuracy')\n",
    "plt.plot(epochs_range, test_acc, label='Test Accuracy')\n",
    "plt.legend(loc='lower right')\n",
    "plt.title('Training and Validation Accuracy')\n",
    "\n",
    "plt.subplot(1, 2, 2)\n",
    "plt.plot(epochs_range, train_loss, label='Training Loss')\n",
    "plt.plot(epochs_range, test_loss, label='Test Loss')\n",
    "plt.legend(loc='upper right')\n",
    "plt.title('Training and Validation Loss')\n",
    "plt.show()"
   ]
  }
 ],
 "metadata": {
  "kaggle": {
   "accelerator": "none",
   "dataSources": [
    {
     "datasetId": 5771171,
     "sourceId": 9486524,
     "sourceType": "datasetVersion"
    }
   ],
   "dockerImageVersionId": 30775,
   "isGpuEnabled": false,
   "isInternetEnabled": false,
   "language": "python",
   "sourceType": "notebook"
  },
  "kernelspec": {
   "display_name": "Python 3 (ipykernel)",
   "language": "python",
   "name": "python3"
  },
  "language_info": {
   "codemirror_mode": {
    "name": "ipython",
    "version": 3
   },
   "file_extension": ".py",
   "mimetype": "text/x-python",
   "name": "python",
   "nbconvert_exporter": "python",
   "pygments_lexer": "ipython3",
   "version": "3.11.5"
  },
  "papermill": {
   "default_parameters": {},
   "duration": 215.204116,
   "end_time": "2024-09-26T12:32:42.095790",
   "environment_variables": {},
   "exception": null,
   "input_path": "__notebook__.ipynb",
   "output_path": "__notebook__.ipynb",
   "parameters": {},
   "start_time": "2024-09-26T12:29:06.891674",
   "version": "2.6.0"
  }
 },
 "nbformat": 4,
 "nbformat_minor": 5
}
